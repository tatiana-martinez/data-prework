{
 "cells": [
  {
   "cell_type": "markdown",
   "metadata": {},
   "source": [
    "<img src=\"https://bit.ly/2VnXWr2\" width=\"100\" align=\"left\">"
   ]
  },
  {
   "cell_type": "markdown",
   "metadata": {},
   "source": [
    "# The Snail and the Well\n",
    "\n",
    "A snail falls at the bottom of a 125 cm well. Each day the snail rises 30 cm. But at night, while sleeping, slides 20 cm because the walls are wet. How many days does it take for the snail to escape the well?\n",
    "\n",
    "**Hint**: The snail gets out of the well when it surpasses the 125cm of height.\n",
    "\n",
    "## Tools\n",
    "\n",
    "1. Loop: **while**\n",
    "2. Conditional statements: **if-else**\n",
    "3. Function: **print()**\n",
    "\n",
    "## Tasks\n",
    "\n",
    "#### 1. Assign the challenge data to variables with representative names: `well_height`, `daily_distance`, `nightly_distance` and `snail_position`."
   ]
  },
  {
   "cell_type": "code",
   "execution_count": 1,
   "metadata": {},
   "outputs": [],
   "source": [
    "well_height = 125\n",
    "daily_distance = 30\n",
    "nightly_distance = 20\n",
    "snail_position = 0"
   ]
  },
  {
   "cell_type": "markdown",
   "metadata": {},
   "source": [
    "#### 2. Create a variable `days` to keep count of the days that pass until the snail escapes the well. "
   ]
  },
  {
   "cell_type": "code",
   "execution_count": 2,
   "metadata": {},
   "outputs": [],
   "source": [
    "days = 0"
   ]
  },
  {
   "cell_type": "markdown",
   "metadata": {},
   "source": [
    "#### 3. Find the solution to the challenge using the variables defined above. "
   ]
  },
  {
   "cell_type": "code",
   "execution_count": 2,
   "metadata": {},
   "outputs": [],
   "source": [
    "well_height = 125\n",
    "daily_distance = 30\n",
    "nightly_distance = 20\n",
    "snail_position = 0\n",
    "days = 0\n",
    "\n",
    "snailinthewell = True\n",
    "while snailinthewell:\n",
    "    snail_position += (daily_distance - nightly_distance)\n",
    "    days += 1\n",
    "    if snail_position > well_height:\n",
    "        snailinthewell = False"
   ]
  },
  {
   "cell_type": "markdown",
   "metadata": {},
   "source": [
    "#### 4. Print the solution."
   ]
  },
  {
   "cell_type": "code",
   "execution_count": 3,
   "metadata": {},
   "outputs": [
    {
     "name": "stdout",
     "output_type": "stream",
     "text": [
      "Days =  13 days\n"
     ]
    }
   ],
   "source": [
    "print(\"Days = \", days, \"days\")"
   ]
  },
  {
   "cell_type": "markdown",
   "metadata": {},
   "source": [
    "## Bonus\n",
    "The distance traveled by the snail each day is now defined by a list.\n",
    "```\n",
    "advance_cm = [30, 21, 33, 77, 44, 45, 23, 45, 12, 34, 55]\n",
    "```\n",
    "On the first day, the snail rises 30cm but during the night it slides 20cm. On the second day, the snail rises 21cm but during the night it slides 20cm, and so on. \n",
    "\n",
    "#### 1. How many days does it take for the snail to escape the well?\n",
    "Follow the same guidelines as in the previous challenge.\n",
    "\n",
    "**Hint**: Remember that the snail gets out of the well when it surpasses the 125cm of height."
   ]
  },
  {
   "cell_type": "code",
   "execution_count": 4,
   "metadata": {},
   "outputs": [
    {
     "name": "stdout",
     "output_type": "stream",
     "text": [
      "Days =  6 days\n"
     ]
    }
   ],
   "source": [
    "well_height = 125\n",
    "advance_cm = [30, 21, 33, 77, 44, 45, 23, 45, 12, 34, 55]\n",
    "nightly_distance = 20\n",
    "snail_position = 0\n",
    "\n",
    "days = 0\n",
    "\n",
    "i = 0\n",
    "\n",
    "snailinthewell = True\n",
    "while snailinthewell:\n",
    "    snail_position += (advance_cm[i] - nightly_distance)\n",
    "    days += 1\n",
    "    i += 1\n",
    "    if snail_position > well_height:\n",
    "        snailinthewell = False\n",
    "print(\"Days = \", days, \"days\")"
   ]
  },
  {
   "cell_type": "markdown",
   "metadata": {},
   "source": [
    "#### 2. What is its maximum displacement in one day? And its minimum? Calculate the displacement using only the travel distance of the days used to get out of the well. \n",
    "**Hint**: Remember that displacement means the total distance risen taking into account that the snail slides at night.  "
   ]
  },
  {
   "cell_type": "code",
   "execution_count": 6,
   "metadata": {},
   "outputs": [
    {
     "name": "stdout",
     "output_type": "stream",
     "text": [
      " Displacement of the snail until getting out of the well =  [30, 21, 33, 77, 44, 45]\n",
      " Maximum displacement in one day =  77\n",
      " Minimum displacement in one day =  21\n"
     ]
    }
   ],
   "source": [
    "advance_cm = [30, 21, 33, 77, 44, 45, 23, 45, 12, 34, 55]\n",
    "\n",
    "lst_dsp = advance_cm [:6]\n",
    "print (\" Displacement of the snail until getting out of the well = \", lst_dsp)\n",
    "\n",
    "\n",
    "max(lst_dsp)\n",
    "print (\" Maximum displacement in one day = \", max(lst_dsp))\n",
    "\n",
    "min(lst_dsp)\n",
    "print (\" Minimum displacement in one day = \", min(lst_dsp))"
   ]
  },
  {
   "cell_type": "markdown",
   "metadata": {},
   "source": [
    "#### 3. What is its average progress? Take into account the snail slides at night."
   ]
  },
  {
   "cell_type": "code",
   "execution_count": 7,
   "metadata": {},
   "outputs": [
    {
     "name": "stdout",
     "output_type": "stream",
     "text": [
      " Snail's daily position until going out the well =  [10, 11, 24, 81, 105, 130]\n",
      " Snail's average progress =  60.166666666666664\n",
      " Snail's average progress =  60.166666666666664\n"
     ]
    }
   ],
   "source": [
    "import statistics\n",
    "\n",
    "well_height = 125\n",
    "advance_cm = [30, 21, 33, 77, 44, 45, 23, 45, 12, 34, 55]\n",
    "nightly_distance = 20\n",
    "snail_position = 0\n",
    "\n",
    "days = 0\n",
    "\n",
    "i = 0\n",
    "\n",
    "lst_snail_position = []\n",
    "\n",
    "snailinthewell = True\n",
    "while snailinthewell:\n",
    "    snail_position += (advance_cm[i] - nightly_distance)\n",
    "    lst_snail_position.append(snail_position)\n",
    "\n",
    "    days += 1\n",
    "    i += 1\n",
    "  \n",
    "    \n",
    "    if snail_position > well_height:\n",
    "        snailinthewell = False\n",
    "print (\" Snail's daily position until going out the well = \", lst_snail_position)\n",
    "\n",
    "print (\" Snail's average progress = \", sum(lst_snail_position)/len(lst_snail_position))\n",
    "print (\" Snail's average progress = \", statistics.mean(lst_snail_position))"
   ]
  },
  {
   "cell_type": "markdown",
   "metadata": {},
   "source": [
    "#### 4. What is the standard deviation of its displacement? Take into account the snail slides at night."
   ]
  },
  {
   "cell_type": "code",
   "execution_count": 10,
   "metadata": {},
   "outputs": [
    {
     "name": "stdout",
     "output_type": "stream",
     "text": [
      " Snail's daily position until going out the well =  [10, 11, 24, 81, 105, 130]\n",
      " Snail's average progress =  60.166666666666664\n",
      " Snail's average progress =  60.166666666666664\n",
      " Standard deviation of its displacement =  52.082306656547644\n"
     ]
    }
   ],
   "source": [
    "import statistics\n",
    "\n",
    "well_height = 125\n",
    "advance_cm = [30, 21, 33, 77, 44, 45, 23, 45, 12, 34, 55]\n",
    "nightly_distance = 20\n",
    "snail_position = 0\n",
    "\n",
    "days = 0\n",
    "\n",
    "i = 0\n",
    "\n",
    "lst_snail_position = []\n",
    "\n",
    "snailinthewell = True\n",
    "while snailinthewell:\n",
    "    snail_position += (advance_cm[i] - nightly_distance)\n",
    "    lst_snail_position.append(snail_position)\n",
    "\n",
    "    days += 1\n",
    "    i += 1\n",
    "  \n",
    "    \n",
    "    if snail_position > well_height:\n",
    "        snailinthewell = False\n",
    "print (\" Snail's daily position until going out the well = \", lst_snail_position)\n",
    "\n",
    "print (\" Snail's average progress = \", sum(lst_snail_position)/len(lst_snail_position))\n",
    "print (\" Snail's average progress = \", statistics.mean(lst_snail_position))\n",
    "print (\" Standard deviation of its displacement = \", statistics.stdev(lst_snail_position))"
   ]
  },
  {
   "cell_type": "code",
   "execution_count": null,
   "metadata": {},
   "outputs": [],
   "source": []
  },
  {
   "cell_type": "code",
   "execution_count": null,
   "metadata": {},
   "outputs": [],
   "source": []
  }
 ],
 "metadata": {
  "kernelspec": {
   "display_name": "Python 3",
   "language": "python",
   "name": "python3"
  },
  "language_info": {
   "codemirror_mode": {
    "name": "ipython",
    "version": 3
   },
   "file_extension": ".py",
   "mimetype": "text/x-python",
   "name": "python",
   "nbconvert_exporter": "python",
   "pygments_lexer": "ipython3",
   "version": "3.8.2"
  }
 },
 "nbformat": 4,
 "nbformat_minor": 2
}
