{
 "cells": [
  {
   "cell_type": "markdown",
   "metadata": {},
   "source": [
    "<img src=\"https://bit.ly/2VnXWr2\" width=\"100\" align=\"left\"/>"
   ]
  },
  {
   "cell_type": "markdown",
   "metadata": {},
   "source": [
    "# Robin Hood\n",
    "Robin Hood has entered a competition to win the archery contest in Sherwood. With his bow and arrows, he needs to shoot on a target and try to hit as close as possible to the center.\n",
    "\n",
    "![](images/arrows.jpg)\n",
    "\n",
    "## Context\n",
    "In this challenge, the landing position of arrows shot by archers in the competition will be represented using 2-dimensional coordinates. \n",
    "\n",
    "In the 2-dimensional space, a point can be defined by a pair of values that correspond to the horizontal coordinate (x) and the vertical coordinate (y). For example, in our case, an arrow that hits the center of the archery target will land in position (0, 0) on the coordinate axes. \n",
    "\n",
    "The space can be divided into 4 zones (quadrants): Q1, Q2, Q3, Q4. If a point is in Q1, both its x coordinate and y coordinate are positive. Any point with a null x or y coordinate is considered to not belong to any quadrant. \n",
    "\n",
    "If you want to know more about the cartesian coordinate system, you can check this [link](https://en.wikipedia.org/wiki/Cartesian_coordinate_system). \n",
    "\n",
    "## Tools\n",
    "You don't necessarily need to use all the tools. Maybe you opt to use some of them or completely different ones, they are given to help you shape the exercise. Programming exercises can be solved in many different ways.\n",
    "* Data structures: **lists, sets, tuples**\n",
    "* Conditional statements: **if-elif-else**\n",
    "* Loop: **while/for**\n",
    "* Minimum (optional sorting)\n",
    "\n",
    "## Tasks\n",
    "Robin Hood has hit the following points:"
   ]
  },
  {
   "cell_type": "code",
   "execution_count": null,
   "metadata": {},
   "outputs": [],
   "source": [
    "points = [(4, 5), (-0, 2), (4, 7), (1, -3), (3, -2), (4, 5), (3, 2), (5, 7), (-5, 7), (2, 2), (-4, 5), (0, -2),\n",
    "          (-4, 7), (-1, 3), (-3, 2), (-4, -5), (-3, 2), (5, 7), (5, 7), (2, 2), (9, 9), (-8, -9)]"
   ]
  },
  {
   "cell_type": "markdown",
   "metadata": {},
   "source": [
    "#### 1. Robin Hood is famous for hitting an arrow with another arrow. Find the coordinates of the points where an arrow hits another arrow."
   ]
  },
  {
   "cell_type": "code",
   "execution_count": 1,
   "metadata": {},
   "outputs": [
    {
     "name": "stdout",
     "output_type": "stream",
     "text": [
      "List of coordinates of the points where an arrow hits another arrow : [[4, 5], [5, 7], [2, 2], [-3, 2]]\n"
     ]
    }
   ],
   "source": [
    "points = [(4, 5), (-0, 2), (4, 7), (1, -3), (3, -2), (4, 5), (3, 2), (5, 7), (-5, 7), (2, 2), (-4, 5), (0, -2),\n",
    "          (-4, 7), (-1, 3), (-3, 2), (-4, -5), (-3, 2), (5, 7), (5, 7), (2, 2), (9, 9), (-8, -9)]\n",
    "\n",
    "\n",
    "lst_points = []\n",
    "\n",
    "#Convert tuples in list \n",
    "for i in range(0,len(points)):\n",
    "    lst_points.append(list(points[i]))\n",
    "#print(lst_points)\n",
    "\n",
    "lenlst_points = len(lst_points)\n",
    "lenj = lenlst_points - 1\n",
    "\n",
    "lst_coordinates =[]\n",
    "\n",
    "#find coordinates of the points where an arrow hits another arrow\n",
    "for i in range(0,len(points)):\n",
    "    for j in range(i+1,lenj):\n",
    "        if lst_points[i]== lst_points[j]:\n",
    "           # print (\"Coordinates of the points where an arrow hits another arrow :\", lst_points[i])\n",
    "            lst_coordinates.append(lst_points[i])\n",
    "\n",
    "#print(\"List of coordinates of the points where an arrow hits another arrow :\", lst_coordinates)\n",
    "\n",
    "#delete duplicates coordinates\n",
    "coord_noduplica = [] \n",
    "[coord_noduplica.append(x) for x in lst_coordinates if x not in coord_noduplica]\n",
    "print(\"List of coordinates of the points where an arrow hits another arrow :\", coord_noduplica)"
   ]
  },
  {
   "cell_type": "markdown",
   "metadata": {},
   "source": [
    "#### 2. Calculate how many arrows have fallen in each quadrant. \n",
    "**Note**: the arrows that fall in the axis (x=0 or y=0) don't belong to any quadrant."
   ]
  },
  {
   "cell_type": "code",
   "execution_count": 2,
   "metadata": {},
   "outputs": [
    {
     "name": "stdout",
     "output_type": "stream",
     "text": [
      "Number of arrows in Q1 : 10\n",
      "Number of arrows in Q2 : 2\n",
      "Number of arrows in Q3 : 2\n",
      "Number of arrows in Q4 : 6\n"
     ]
    }
   ],
   "source": [
    "points = [(4, 5), (-0, 2), (4, 7), (1, -3), (3, -2), (4, 5), (3, 2), (5, 7), (-5, 7), (2, 2), (-4, 5), (0, -2),\n",
    "          (-4, 7), (-1, 3), (-3, 2), (-4, -5), (-3, 2), (5, 7), (5, 7), (2, 2), (9, 9), (-8, -9)]\n",
    "\n",
    "\n",
    "lst_points = []\n",
    "\n",
    "#Convert tuples in list \n",
    "for i in range(0,len(points)):\n",
    "    lst_points.append(list(points[i]))\n",
    "#print(lst_points)\n",
    "#print(len(lst_points))\n",
    "\n",
    "\n",
    "#Number of arrows that don't belong to any quadrant \n",
    "#a = 0\n",
    "#for i in range (0,len(lst_points)):\n",
    "#    if abs(lst_points[i][0]) == 0 or abs(lst_points[i][1]) == 0 :\n",
    "#        print(\"point a 0 :\",lst_points[i] )\n",
    "#        a +=1\n",
    "   # points_nonull.remove(points_nonull[i])\n",
    "#print(\"Number of arrows that don't belong to any quadrant :\",a)\n",
    "\n",
    "#How many arrows in each quadrant\n",
    "q1 =0\n",
    "q2 =0\n",
    "q3 =0\n",
    "q4 =0\n",
    "hq =0\n",
    "for x in range (0,len(lst_points)):\n",
    "    if lst_points[x][0]>0 and int(lst_points[x][1])>0 :\n",
    "        q1 +=1\n",
    "    elif lst_points[x][0]>0 and lst_points[x][1]<0 :\n",
    "        q2 +=1\n",
    "    elif lst_points[x][0]<0 and lst_points[x][1]<0 :\n",
    "        q3 +=1\n",
    "    elif lst_points[x][0]<0 and lst_points[x][1]>0 :\n",
    "        q4 +=1\n",
    "    else :\n",
    "        hq +=1\n",
    "print(\"Number of arrows in Q1 :\", q1)\n",
    "print(\"Number of arrows in Q2 :\", q2)\n",
    "print(\"Number of arrows in Q3 :\", q3)\n",
    "print(\"Number of arrows in Q4 :\", q4)\n",
    "#print(\"Number of arrows that don't belong to any quadrant :\",hq)\n",
    "#print (\"Number of points :\", q1+q2+q3+q4+hq)\n",
    "\n",
    "            "
   ]
  },
  {
   "cell_type": "markdown",
   "metadata": {},
   "source": [
    "#### 3. Find the point closest to the center. Calculate its distance to the center. \n",
    "Take into account that there might be more than one point at the minimum distance to the center.\n",
    "\n",
    "**Hint**: Use the Euclidean distance. You can find more information about it [here](https://en.wikipedia.org/wiki/Euclidean_distance).  \n",
    "**Hint**: Defining a function that calculates the distance to the center can help."
   ]
  },
  {
   "cell_type": "code",
   "execution_count": 3,
   "metadata": {},
   "outputs": [
    {
     "name": "stdout",
     "output_type": "stream",
     "text": [
      "distance: [6.4031242374328485, 8.06225774829855, 3.1622776601683795, 3.605551275463989, 6.4031242374328485, 3.605551275463989, 8.602325267042627, 8.602325267042627, 2.8284271247461903, 6.4031242374328485, 8.06225774829855, 3.1622776601683795, 3.605551275463989, 6.4031242374328485, 3.605551275463989, 8.602325267042627, 8.602325267042627, 2.8284271247461903, 12.727922061357855, 12.041594578792296]\n",
      "The point closest to the center is : [2, 2] the distance with the center is : 2.8284271247461903\n",
      "The point closest to the center is : [2, 2] the distance with the center is : 2.8284271247461903\n"
     ]
    }
   ],
   "source": [
    "points = [(4, 5), (-0, 2), (4, 7), (1, -3), (3, -2), (4, 5), (3, 2), (5, 7), (-5, 7), (2, 2), (-4, 5), (0, -2),\n",
    "          (-4, 7), (-1, 3), (-3, 2), (-4, -5), (-3, 2), (5, 7), (5, 7), (2, 2), (9, 9), (-8, -9)]\n",
    "\n",
    "import math\n",
    "\n",
    "lst_points = []\n",
    "\n",
    "#Convert tuples in list \n",
    "for i in range(0,len(points)):\n",
    "    lst_points.append(list(points[i]))\n",
    "#print(lst_points)\n",
    "\n",
    "\n",
    "#delete x= 0 or y= 0\n",
    "lst = []\n",
    "for i in range(0, len(lst_points)):\n",
    "    if lst_points[i][0] != 0 and lst_points[i][1] != 0:\n",
    "        lst.append(lst_points[i])\n",
    "#print(\"List without x= 0 or y= 0\", lst)    \n",
    "len(lst)\n",
    "\n",
    "lst_dist =[]\n",
    "a = 0\n",
    "#Using the Euclidean distance(p,q); q is the coordinate of arrow and p [0,0] the center; \n",
    "#d(p,q) = square root((q1-O)square+(q2-0)square)\n",
    "for i in range(0, len(lst)):\n",
    "    a = math.sqrt((lst[i][0])**2 + (lst[i][1])**2)\n",
    "    lst_dist.append(a)\n",
    "print(\"distance:\", lst_dist)\n",
    "\n",
    "#dictionary={}\n",
    "#Make a dictionary with keys from coordinates of lst and values from lst_dist\n",
    "#for i in range(0,len(lst)):\n",
    "#    print(lst[i])\n",
    "#    dictionary = dict(zip(lst[i],lst_dist[i]))\n",
    "#print (\"dictionary:\",dictionary)\n",
    "\n",
    "\n",
    "#Find points closest to the center\n",
    "for i in range(0, len(lst_dist)):\n",
    "    if lst_dist[i] == min(lst_dist) :\n",
    "        #print(\"min coordinate : \",lst[i])\n",
    "        #print(\"min distance\",min(lst_dist))\n",
    "        print(\"The point closest to the center is :\",lst[i], \"the distance with the center is :\",min(lst_dist))\n",
    "\n",
    "                "
   ]
  },
  {
   "cell_type": "markdown",
   "metadata": {},
   "source": [
    "#### 4. If the archery target has a radius of 9, calculate the number of arrows that won't hit the target. \n",
    "**Hint**: Use the function created in step 3. "
   ]
  },
  {
   "cell_type": "code",
   "execution_count": 4,
   "metadata": {},
   "outputs": [
    {
     "name": "stdout",
     "output_type": "stream",
     "text": [
      "the number of arrows that won't hit the target: 4\n"
     ]
    }
   ],
   "source": [
    "points = [(4, 5), (-0, 2), (4, 7), (1, -3), (3, -2), (4, 5), (3, 2), (5, 7), (-5, 7), (2, 2), (-4, 5), (0, -2),\n",
    "          (-4, 7), (-1, 3), (-3, 2), (-4, -5), (-3, 2), (5, 7), (5, 7), (2, 2), (9, 9), (-8, -9)]\n",
    "\n",
    "import math\n",
    "\n",
    "lst_points = []\n",
    "\n",
    "#Convert tuples in list \n",
    "for i in range(0,len(points)):\n",
    "    lst_points.append(list(points[i]))\n",
    "#print(lst_points)\n",
    "\n",
    "\n",
    "#delete x= 0 or y= 0\n",
    "lst = []\n",
    "for i in range(0, len(lst_points)):\n",
    "    if lst_points[i][0] != 0 and lst_points[i][1] != 0:\n",
    "        lst.append(lst_points[i])\n",
    "#print(\"List without x= 0 or y= 0\", lst)    \n",
    "len(lst)\n",
    "\n",
    "lst_dist =[]\n",
    "a = 0\n",
    "#Using the Euclidean distance(p,q); q is the coordinate of arrow and p [0,0] the center; \n",
    "#d(p,q) = square root((q1-O)square+(q2-0)square)\n",
    "for i in range(0, len(lst)):\n",
    "    a = math.sqrt((lst[i][0])**2 + (lst[i][1])**2)\n",
    "    lst_dist.append(a)\n",
    "#print(\"distance:\", lst_dist)\n",
    "\n",
    "#Number of arrows that don't belong to any quadrant \n",
    "b = 0\n",
    "for i in range (0,len(lst_points)):\n",
    "    if abs(lst_points[i][0]) == 0 or abs(lst_points[i][1]) == 0 :\n",
    "      #  print(\"point a 0 :\",lst_points[i] )\n",
    "        b +=1\n",
    "   # points_nonull.remove(points_nonull[i])\n",
    "#print(\"Number of arrows that never belong to any quadrant :\",b)\n",
    "\n",
    "\n",
    "#Total of arrows that won't hit the target when radius is 9\n",
    "\n",
    "for i in range(0, len(lst_dist)):\n",
    "    if lst_dist[i] > 9 :\n",
    "        b+=1\n",
    "print(\"the number of arrows that won't hit the target:\",b)\n",
    "\n",
    "                "
   ]
  },
  {
   "cell_type": "code",
   "execution_count": null,
   "metadata": {},
   "outputs": [],
   "source": []
  },
  {
   "cell_type": "code",
   "execution_count": null,
   "metadata": {},
   "outputs": [],
   "source": []
  }
 ],
 "metadata": {
  "kernelspec": {
   "display_name": "Python 3",
   "language": "python",
   "name": "python3"
  },
  "language_info": {
   "codemirror_mode": {
    "name": "ipython",
    "version": 3
   },
   "file_extension": ".py",
   "mimetype": "text/x-python",
   "name": "python",
   "nbconvert_exporter": "python",
   "pygments_lexer": "ipython3",
   "version": "3.8.2"
  }
 },
 "nbformat": 4,
 "nbformat_minor": 2
}
