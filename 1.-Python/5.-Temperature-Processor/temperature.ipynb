{
 "cells": [
  {
   "cell_type": "markdown",
   "metadata": {},
   "source": [
    "<img src=\"https://bit.ly/2VnXWr2\" width=\"100\" align=\"left\">"
   ]
  },
  {
   "cell_type": "markdown",
   "metadata": {},
   "source": [
    "# Temperature Sensor\n",
    "\n",
    "There is a temperature sensor in the processor of your company's server. The company wants to analyze the data provided by the sensor to decide if they should change the cooling system for a better one. As changing the cooling system is expensive and you are an excellent data analyst, you can't make a decision without basis.\n",
    "\n",
    "## Tools\n",
    "You don't necessarily need to use all the tools. Maybe you opt to use some of them or completely different ones, they are given to help you shape the exercise. Programming exercises can be solved in many different ways.\n",
    "1. Data structures: **lists**\n",
    "2. Loops: **list comprehension**\n",
    "3. Functions: **min, max, print, len**\n",
    "4. Conditional statements: **if-elif-else**\n",
    "\n",
    "## Tasks\n",
    "The temperatures measured throughout the 24 hours of a day are:"
   ]
  },
  {
   "cell_type": "code",
   "execution_count": null,
   "metadata": {},
   "outputs": [],
   "source": [
    "temperatures_C = [33, 66, 65, 0, 59, 60, 62, 64, 70, 76, 80, 81, 80, 83, 90, 79, 61, 53, 50, 49, 53, 48, 45, 39]"
   ]
  },
  {
   "cell_type": "markdown",
   "metadata": {},
   "source": [
    "The first element of the list is the temperature at 12am, the second element is the temperature at 1am, and so on. \n",
    "\n",
    "The company has decided that if one of the following events occurs, then the cooling system needs to be replaced for a new one to avoid damaging the processor.\n",
    "* More than 4 temperatures are greater than or equal to 70ºC.\n",
    "* Any temperature is above 80ºC.\n",
    "* The average temperature exceeds 65ºC.\n",
    "\n",
    "Follow the steps so that you can make the decision.\n",
    "\n",
    "#### 1. Find the minimum temperature of the day and store it in a variable."
   ]
  },
  {
   "cell_type": "code",
   "execution_count": 1,
   "metadata": {},
   "outputs": [
    {
     "name": "stdout",
     "output_type": "stream",
     "text": [
      "0\n"
     ]
    }
   ],
   "source": [
    "temperatures_C = [33, 66, 65, 0, 59, 60, 62, 64, 70, 76, 80, 81, 80, 83, 90, 79, 61, 53, 50, 49, 53, 48, 45, 39]\n",
    "min_temp = min(temperatures_C)\n",
    "print(min_temp)"
   ]
  },
  {
   "cell_type": "markdown",
   "metadata": {},
   "source": [
    "#### 2. Find the maximum temperature of the day and store it in a variable."
   ]
  },
  {
   "cell_type": "code",
   "execution_count": 2,
   "metadata": {},
   "outputs": [
    {
     "name": "stdout",
     "output_type": "stream",
     "text": [
      "90\n"
     ]
    }
   ],
   "source": [
    "temperatures_C = [33, 66, 65, 0, 59, 60, 62, 64, 70, 76, 80, 81, 80, 83, 90, 79, 61, 53, 50, 49, 53, 48, 45, 39]\n",
    "max_temp = max(temperatures_C)\n",
    "print(max_temp)"
   ]
  },
  {
   "cell_type": "markdown",
   "metadata": {},
   "source": [
    "#### 3. Create a list with the temperatures that are greater than or equal to 70ºC. Store it in a variable."
   ]
  },
  {
   "cell_type": "code",
   "execution_count": 3,
   "metadata": {},
   "outputs": [
    {
     "name": "stdout",
     "output_type": "stream",
     "text": [
      "List with the temperatures that are greater than or equal to 70ºC :  [70, 76, 80, 81, 80, 83, 90, 79]\n"
     ]
    }
   ],
   "source": [
    "temperatures_C = [33, 66, 65, 0, 59, 60, 62, 64, 70, 76, 80, 81, 80, 83, 90, 79, 61, 53, 50, 49, 53, 48, 45, 39]\n",
    "temp_sev = []\n",
    "for i in range(0, len(temperatures_C)):\n",
    "    if temperatures_C[i] >= 70:\n",
    "        temp_sev.append(temperatures_C[i]) \n",
    "print(\"List with the temperatures that are greater than or equal to 70ºC : \",temp_sev)\n",
    "    "
   ]
  },
  {
   "cell_type": "markdown",
   "metadata": {},
   "source": [
    "#### 4. Find the average temperature of the day and store it in a variable."
   ]
  },
  {
   "cell_type": "code",
   "execution_count": 4,
   "metadata": {},
   "outputs": [
    {
     "name": "stdout",
     "output_type": "stream",
     "text": [
      "The average temperature :  60.25\n"
     ]
    }
   ],
   "source": [
    "import statistics\n",
    "\n",
    "temperatures_C = [33, 66, 65, 0, 59, 60, 62, 64, 70, 76, 80, 81, 80, 83, 90, 79, 61, 53, 50, 49, 53, 48, 45, 39]\n",
    "avgtemp = statistics.mean(temperatures_C)\n",
    "print(\"The average temperature : \",avgtemp )"
   ]
  },
  {
   "cell_type": "markdown",
   "metadata": {},
   "source": [
    "#### 5. Imagine that there was a sensor failure at 3am and the data for that specific hour was not recorded. How would you estimate the missing value? Replace the current value of the list at 3am for an estimation. "
   ]
  },
  {
   "cell_type": "code",
   "execution_count": 5,
   "metadata": {},
   "outputs": [
    {
     "name": "stdout",
     "output_type": "stream",
     "text": [
      "The average temperature :  60.25\n",
      "The average temperature :  59.43478260869565\n",
      "24\n",
      "Estimation 3am value 19.56521739130443\n"
     ]
    }
   ],
   "source": [
    "temperatures_C = [33, 66, 65, 0, 59, 60, 62, 64, 70, 76, 80, 81, 80, 83, 90, 79, 61, 53, 50, 49, 53, 48, 45, 39]\n",
    "\n",
    "avgtemp = statistics.mean(temperatures_C)\n",
    "print(\"The average temperature : \",avgtemp )\n",
    "\n",
    "temperatures_C_3h = []\n",
    "\n",
    "temperatures_C.remove(temperatures_C[15])\n",
    "temperatures_C_3h = temperatures_C\n",
    "\n",
    "\n",
    "\n",
    "\n",
    "#print(\"List without temp 3am : \", temperatures_C_3h)\n",
    "\n",
    "avgtemp3h = statistics.mean(temperatures_C_3h)\n",
    "print(\"The average temperature : \",avgtemp3h )\n",
    "\n",
    "#Estimation 3am value - mean(temperatures_C_3h = temperatures_C - (estimate3h/nbre data of list temperatures_C ))\n",
    "\n",
    "\n",
    "len(temperatures_C)\n",
    "estimate = avgtemp - avgtemp3h\n",
    "estimate3h = estimate*(len(temperatures_C)+1)\n",
    "print((len(temperatures_C)+1))\n",
    "print(\"Estimation 3am value\",estimate3h)"
   ]
  },
  {
   "cell_type": "markdown",
   "metadata": {},
   "source": [
    "#### 6. Bonus: the maintenance staff is from the United States and does not understand the international metric system. Help them by converting the temperatures from Celsius to Fahrenheit.\n",
    "To know more about temperature conversion check this [link](https://en.wikipedia.org/wiki/Conversion_of_units_of_temperature).\n",
    "\n",
    "**Formula**: \n",
    "\n",
    "$F = 1.8 * C + 32$"
   ]
  },
  {
   "cell_type": "code",
   "execution_count": 6,
   "metadata": {},
   "outputs": [
    {
     "name": "stdout",
     "output_type": "stream",
     "text": [
      "List of temp in Fahrenheit :  [91.4, 150.8, 149.0, 32.0, 138.2, 140.0, 143.60000000000002, 147.2, 158.0, 168.8, 176.0, 177.8, 176.0, 181.4, 194.0, 174.20000000000002, 141.8, 127.4, 122.0, 120.2, 127.4, 118.4, 113.0, 102.2]\n"
     ]
    }
   ],
   "source": [
    "temperatures_C = [33, 66, 65, 0, 59, 60, 62, 64, 70, 76, 80, 81, 80, 83, 90, 79, 61, 53, 50, 49, 53, 48, 45, 39]\n",
    "\n",
    "temperatures_F = []\n",
    "value_temperatures_F = 0\n",
    "for i in range (0, len(temperatures_C)):\n",
    "    value_temperatures_F = (1.8*temperatures_C[i])+32\n",
    "    temperatures_F.append(value_temperatures_F)\n",
    "print(\"List of temp in Fahrenheit : \",temperatures_F )\n",
    "#print(len(temperatures_F))\n",
    "\n",
    " \n",
    "\n",
    "\n"
   ]
  },
  {
   "cell_type": "markdown",
   "metadata": {},
   "source": [
    "#### 7. Make a decision!\n",
    "Now it's time to make a decision taking into account what you have seen until now. \n",
    "\n",
    "Remember that if one of the following events occurs, then the cooling system needs to be replaced for a new one to avoid damaging the processor.\n",
    "* More than 4 temperatures are greater than or equal to 70ºC.\n",
    "* Any temperature is above 80ºC.\n",
    "* The average temperature exceeds 65ºC.\n",
    "\n",
    "#### To make your decision, check if any of the three conditions above is met. You might need to use some of the variables you created in steps 1 to 6. Print a message to show if the cooling system needs to be changed or not."
   ]
  },
  {
   "cell_type": "code",
   "execution_count": 7,
   "metadata": {},
   "outputs": [
    {
     "name": "stdout",
     "output_type": "stream",
     "text": [
      "the cooling system needs to be replaced\n"
     ]
    }
   ],
   "source": [
    "temperatures_C = [33, 66, 65, 0, 59, 60, 62, 64, 70, 76, 80, 81, 80, 83, 90, 79, 61, 53, 50, 49, 53, 48, 45, 39]\n",
    "import statistics\n",
    "\n",
    "temp_sev = []\n",
    "temp_eig = []\n",
    "a =0 \n",
    "for i in range(0, len(temperatures_C)):\n",
    "    if temperatures_C[i] >= 70:\n",
    "        temp_sev.append(temperatures_C[i])\n",
    "        a=len(temp_sev)\n",
    "#print(a)\n",
    "#print(\"List with the temperatures that are greater than or equal to 70ºC : \",temp_sev)\n",
    "\n",
    "for i in range(0, len(temperatures_C)):\n",
    "    if temperatures_C[i] >= 80:\n",
    "        temp_eig.append(temperatures_C[i])\n",
    "#print(\"List with the temperatures that are greater than or equal to 80ºC : \",temp_eig)\n",
    "\n",
    "\n",
    "\n",
    "\n",
    "temperatures_C = [33, 66, 65, 0, 59, 60, 62, 64, 70, 76, 80, 81, 80, 83, 90, 79, 61, 53, 50, 49, 53, 48, 45, 39]\n",
    "avgtemp = statistics.mean(temperatures_C)\n",
    "#print(\"The average temperature : \",avgtemp )\n",
    "\n",
    "\n",
    "if a > 4 or temp_eig != [] or avgtemp > 65 :\n",
    "    print(\"the cooling system needs to be replaced\")\n",
    "else:\n",
    "    print(\"Don't replace the cooling system\")\n",
    "       "
   ]
  },
  {
   "cell_type": "markdown",
   "metadata": {},
   "source": [
    "## Bonus\n",
    "\n",
    "The company has decided that the decision you made is not valid. They want you to analyze the data again but this time, the conditions that need to be met in order to change the cooling system are different.\n",
    "\n",
    "This time, if one of the following events occurs, then the cooling system needs to be replaced:\n",
    "* The temperature is greater than 70ºC during more than 4 consecutive hours.\n",
    "* Any temperature is above 80ºC.\n",
    "* The average temperature exceeds 65ºC.\n",
    "\n",
    "Follow the steps so that you can make the decision.\n",
    "\n",
    "#### 1. Create a list with the hours where the temperature is greater than 70ºC. Store it in a variable."
   ]
  },
  {
   "cell_type": "code",
   "execution_count": 8,
   "metadata": {},
   "outputs": [
    {
     "name": "stdout",
     "output_type": "stream",
     "text": [
      "Hours list of temperature greater than 70ºC :  [21, 22, 23, 24, 1, 2, 3]\n"
     ]
    }
   ],
   "source": [
    "temperatures_C = [33, 66, 65, 0, 59, 60, 62, 64, 70, 76, 80, 81, 80, 83, 90, 79, 61, 53, 50, 49, 53, 48, 45, 39]\n",
    "\n",
    "#create a list of hours of all temp\n",
    "hours_tempC = []\n",
    "\n",
    "x=12\n",
    "for i in range(0,len(temperatures_C)):\n",
    "    hours_tempC.append(x)\n",
    "    x+=1 \n",
    "    if x>24:\n",
    "        x=1\n",
    "#print(\"Hours list:\",hours_tempC)\n",
    "\n",
    "\n",
    "#create a list of position for all temp>70C\n",
    "pos =[]\n",
    "\n",
    "for i in range(0,len(temperatures_C)):\n",
    "    if temperatures_C[i] > 70:\n",
    "        pos.append(i)\n",
    "#print(pos)\n",
    "\n",
    "#create a list of hours of all temp>70C\n",
    "hours_70C =[]\n",
    "for i in pos:\n",
    "    hours_70C.append(hours_tempC[i])\n",
    "print(\"Hours list of temperature greater than 70ºC : \",hours_70C)\n",
    "    \n",
    "    \n",
    "#temperatures_C.index(70)\n",
    "#for i in range(0,len(temperatures_C)):\n",
    "#    if temperatures_C[i] > 70:\n",
    "#       print(temperatures_C.index(temperatures_C[i]))\n",
    "        \n"
   ]
  },
  {
   "cell_type": "markdown",
   "metadata": {},
   "source": [
    "#### 2. Check if the list you created in step 1 has more than 4 consecutive hours. "
   ]
  },
  {
   "cell_type": "code",
   "execution_count": 9,
   "metadata": {},
   "outputs": [
    {
     "name": "stdout",
     "output_type": "stream",
     "text": [
      "Hours list of temperature greater than 70ºC :  [21, 22, 23, 24, 1, 2, 3]\n",
      "there is a value, 24h in range: 3\n",
      "There are more than 4 consecutive hours :  21 22 23 24 1\n"
     ]
    }
   ],
   "source": [
    "temperatures_C = [33, 66, 65, 0, 59, 60, 62, 64, 70, 76, 80, 81, 80, 83, 90, 79, 61, 53, 50, 49, 53, 48, 45, 39]\n",
    "\n",
    "#create a list of hours of all temp\n",
    "hours_tempC = []\n",
    "\n",
    "x=12\n",
    "for i in range(0,len(temperatures_C)):\n",
    "    hours_tempC.append(x)\n",
    "    x+=1 \n",
    "    if x>24:\n",
    "        x=1\n",
    "#print(\"Hours list:\",hours_tempC)\n",
    "\n",
    "\n",
    "#create a list of position for all temp>70C\n",
    "pos =[]\n",
    "\n",
    "for i in range(0,len(temperatures_C)):\n",
    "    if temperatures_C[i] > 70:\n",
    "        pos.append(i)\n",
    "#print(pos)\n",
    "\n",
    "#create a list of hours of all temp>70C\n",
    "hours_70C =[]\n",
    "for i in pos:\n",
    "    hours_70C.append(hours_tempC[i])\n",
    "print(\"Hours list of temperature greater than 70ºC : \",hours_70C)\n",
    "\n",
    "#Find if there are more than 4 consecutive hours\n",
    "#print(\"The lenght of the hours's list of temperature greater than 70ºC :\", len(hours_70C))\n",
    "#print(\"The first value of the hours's list of temperature greater than 70ºC :\", hours_70C[0])\n",
    "\n",
    "for i in range(0,len(hours_70C)):\n",
    "        if hours_70C[i]==24:\n",
    "            print(\"there is a value, 24h in range:\", i)\n",
    "\n",
    "\n",
    "for i in range(0, 3):\n",
    "    if (hours_70C[i+1]- hours_70C[i]) ==1 and (hours_70C[i+2]- hours_70C[i+1]) ==1 and (hours_70C[i+3]- hours_70C[i+2]) ==1 and hours_70C[i+4]==1 :\n",
    "        print(\"There are more than 4 consecutive hours : \", hours_70C[i], hours_70C[i+1], hours_70C[i+2], hours_70C[i+3], hours_70C[i+4])\n",
    "   "
   ]
  },
  {
   "cell_type": "markdown",
   "metadata": {},
   "source": [
    "#### 3. Make the decision!\n",
    "To make your decision, check if any of the three conditions is met. Print a message to show if the cooling system needs to be changed or not."
   ]
  },
  {
   "cell_type": "code",
   "execution_count": 10,
   "metadata": {},
   "outputs": [
    {
     "name": "stdout",
     "output_type": "stream",
     "text": [
      "Hours list of temperature greater than 70ºC :  [21, 22, 23, 24, 1, 2, 3]\n",
      "there is a value, 24h in range: 3\n",
      "There are more than 4 consecutive hours, so the the cooling system needs to be changed\n"
     ]
    }
   ],
   "source": [
    "temperatures_C = [33, 66, 65, 0, 59, 60, 62, 64, 70, 76, 80, 81, 80, 83, 90, 79, 61, 53, 50, 49, 53, 48, 45, 39]\n",
    "\n",
    "#create a list of hours of all temp\n",
    "hours_tempC = []\n",
    "\n",
    "x=12\n",
    "for i in range(0,len(temperatures_C)):\n",
    "    hours_tempC.append(x)\n",
    "    x+=1 \n",
    "    if x>24:\n",
    "        x=1\n",
    "#print(\"Hours list:\",hours_tempC)\n",
    "\n",
    "\n",
    "#create a list of position for all temp>70C\n",
    "pos =[]\n",
    "\n",
    "for i in range(0,len(temperatures_C)):\n",
    "    if temperatures_C[i] > 70:\n",
    "        pos.append(i)\n",
    "#print(pos)\n",
    "\n",
    "#create a list of hours of all temp>70C\n",
    "hours_70C =[]\n",
    "for i in pos:\n",
    "    hours_70C.append(hours_tempC[i])\n",
    "print(\"Hours list of temperature greater than 70ºC : \",hours_70C)\n",
    "\n",
    "#Find if there are more than 4 consecutive hours\n",
    "#print(\"The lenght of the hours's list of temperature greater than 70ºC :\", len(hours_70C))\n",
    "#print(\"The first value of the hours's list of temperature greater than 70ºC :\", hours_70C[0])\n",
    "\n",
    "for i in range(0,len(hours_70C)):\n",
    "        if hours_70C[i]==24:\n",
    "            print(\"there is a value, 24h in range:\", i)\n",
    "\n",
    "\n",
    "for i in range(0, 3):\n",
    "    if (hours_70C[i+1]- hours_70C[i]) ==1 and (hours_70C[i+2]- hours_70C[i+1]) ==1 and (hours_70C[i+3]- hours_70C[i+2]) ==1 and hours_70C[i+4]==1 :\n",
    "        print(\"There are more than 4 consecutive hours, so the the cooling system needs to be changed\")\n",
    "   \n",
    "\n"
   ]
  },
  {
   "cell_type": "markdown",
   "metadata": {},
   "source": [
    "#### 4. Find the average value of the temperature lists (ºC and ºF). What is the relation between both average values?"
   ]
  },
  {
   "cell_type": "code",
   "execution_count": 13,
   "metadata": {},
   "outputs": [
    {
     "name": "stdout",
     "output_type": "stream",
     "text": [
      "The average value of the temperature lists (ºF) : 140.45000000000002\n",
      "The average value of the temperature lists (ºC) : 60.25\n",
      "The relation between both average values 140.45 and 60.25 is (1.8*(average of temperature in C)+32)= average of temperature in F.\n"
     ]
    }
   ],
   "source": [
    "temperatures_C = [33, 66, 65, 0, 59, 60, 62, 64, 70, 76, 80, 81, 80, 83, 90, 79, 61, 53, 50, 49, 53, 48, 45, 39]\n",
    "\n",
    "\n",
    "import statistics\n",
    "\n",
    "temperatures_F = []\n",
    "value_temperatures_F = 0\n",
    "for i in range (0, len(temperatures_C)):\n",
    "    value_temperatures_F = (1.8*temperatures_C[i])+32\n",
    "    temperatures_F.append(value_temperatures_F)\n",
    "#print(\"List of temp in Fahrenheit : \",temperatures_F )\n",
    "#print(len(temperatures_F))\n",
    "\n",
    "avgtempF = statistics.mean(temperatures_F)\n",
    "print(\"The average value of the temperature lists (ºF) :\", avgtempF)\n",
    "\n",
    "avgtempC = statistics.mean(temperatures_C)\n",
    "print(\"The average value of the temperature lists (ºC) :\", avgtempC)\n",
    "\n",
    "relation = (1.8*avgtempC)+32\n",
    "print(\"The relation between both average values\",relation,\"and\",avgtempC,\"is (1.8*(average of temperature in C)+32)= average of temperature in F.\")"
   ]
  },
  {
   "cell_type": "markdown",
   "metadata": {},
   "source": [
    "#### 5. Find the standard deviation of the temperature lists (ºC and ºF). What is the relation between both standard deviations?"
   ]
  },
  {
   "cell_type": "code",
   "execution_count": 14,
   "metadata": {},
   "outputs": [
    {
     "name": "stdout",
     "output_type": "stream",
     "text": [
      "The standard deviation of Temperature in C: 19.700474503223873\n",
      "The standard deviation of Temperature in F: 35.46085410580297\n",
      "The relation between both average values 35.46085410580297 and 19.700474503223873 : sqrt(1.8*1.8)*the standard deviation of Temperature in C= the standard deviation of temperature in F\n"
     ]
    }
   ],
   "source": [
    "temperatures_C = [33, 66, 65, 0, 59, 60, 62, 64, 70, 76, 80, 81, 80, 83, 90, 79, 61, 53, 50, 49, 53, 48, 45, 39]\n",
    "\n",
    "\n",
    "import statistics\n",
    "import math\n",
    "\n",
    "temperatures_F = []\n",
    "value_temperatures_F = 0\n",
    "for i in range (0, len(temperatures_C)):\n",
    "    value_temperatures_F = (1.8*temperatures_C[i])+32\n",
    "    temperatures_F.append(value_temperatures_F)\n",
    "#print(\"List of temp in Fahrenheit : \",temperatures_F )\n",
    "#print(len(temperatures_F))\n",
    "\n",
    "a = statistics.stdev(temperatures_C)\n",
    "print(\"The standard deviation of Temperature in C:\", a)\n",
    "b = statistics.stdev(temperatures_F)\n",
    "print(\"The standard deviation of Temperature in F:\", b)\n",
    "\n",
    "# 𝐹=1.8∗𝐶+32 and SD = sqrt(Sum((x-mean(x)*(x-mean(x))/N)\n",
    "#SD in Farenheit \n",
    "\n",
    " \n",
    "\n",
    "relation1 = math.sqrt(1.8*1.8)\n",
    "relation2 = relation1*a \n",
    "print(\"The relation between both average values\",relation2,\"and\",a,\": sqrt(1.8*1.8)*the standard deviation of Temperature in C= the standard deviation of temperature in F\")"
   ]
  },
  {
   "cell_type": "code",
   "execution_count": null,
   "metadata": {},
   "outputs": [],
   "source": []
  }
 ],
 "metadata": {
  "kernelspec": {
   "display_name": "Python 3",
   "language": "python",
   "name": "python3"
  },
  "language_info": {
   "codemirror_mode": {
    "name": "ipython",
    "version": 3
   },
   "file_extension": ".py",
   "mimetype": "text/x-python",
   "name": "python",
   "nbconvert_exporter": "python",
   "pygments_lexer": "ipython3",
   "version": "3.8.2"
  }
 },
 "nbformat": 4,
 "nbformat_minor": 2
}
